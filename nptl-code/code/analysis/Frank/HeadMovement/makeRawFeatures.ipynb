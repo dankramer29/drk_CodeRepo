{
 "cells": [
  {
   "cell_type": "code",
   "execution_count": 2,
   "metadata": {},
   "outputs": [
    {
     "name": "stderr",
     "output_type": "stream",
     "text": [
      "\u001b[0;31mFile /net/home/fwillett/nptlBrainGateRig/code/analysis/Frank/Utility/getBandPowerFromNS5.m, line 21, in getBandPowerFromNS5\n",
      "\n",
      "  File /net/home/fwillett/nptlBrainGateRig/code/analysis/Frank/Utility/getBinnedFeaturesFromSession.m, line 25, in getBinnedFeaturesFromSession\n",
      "Size inputs must be integers.\n",
      "\u001b[0m"
     ]
    }
   ],
   "source": [
    "%extract TX and spike power features from raw .ns5 files for old movement\n",
    "%cue datasets, and align them to the task\n",
    "addpath(genpath('/net/home/fwillett/nptlBrainGateRig/code/analysis/Frank'))\n",
    "\n",
    "readDir = '/net/home/fwillett/movementSweepDatasets';\n",
    "saveDir = [readDir '/features'];\n",
    "datasetDir = [readDir '/processedDatasets'];\n",
    "mkdir(saveDir);\n",
    "\n",
    "subjectCodes = {'t7'};\n",
    "sessionList = {'t7.2013.08.23 Whole body cued movts, new cable (TOUCH)',[4 6 8 9 10 11 12 13 14 15 16 17 18 19],'east';\n",
    "    't9.2015.03.30 Cued Movements',[8 9 10 11 13 14 15],'eaxst'};\n",
    "\n",
    "%feature extraction\n",
    "for s=1:size(sessionList,1)\n",
    "    disp(sessionList{s,1});\n",
    "    if strcmp(sessionList{s,3},'east')\n",
    "        fileNames = getEastNS5FileNames( [readDir filesep sessionList{s,1}], sessionList{s,2}, subjectCodes{s} );\n",
    "    elseif strcmp(sessionList{s,3},'west')\n",
    "        fileNames = getWestNS5FileNames( [readDir filesep sessionList{s,1}], sessionList{s,2}, subjectCodes{s} );\n",
    "    end\n",
    "\n",
    "    anyEmpty = false;\n",
    "    for x=1:numel(fileNames)\n",
    "        anyEmpty = anyEmpty | isempty(fileNames{x});\n",
    "    end\n",
    "    if anyEmpty\n",
    "        continue;\n",
    "    end\n",
    "\n",
    "    opts.fileNames = fileNames;\n",
    "    opts.doLFP = true;\n",
    "    opts.binMS = 20;\n",
    "    opts.bands_lo = [];\n",
    "    opts.bands_hi = [250 5000];\n",
    "    opts.doTX = true;\n",
    "    opts.txThresh = [-3.5,-4.5,-5.5,-6.5];\n",
    "    opts.nCarChans = 60;\n",
    "    opts.blockList = sessionList{s,2};\n",
    "    opts.resultDir = [saveDir filesep sessionList{s,1}];\n",
    "    opts.syncType = sessionList{s,3};\n",
    "    mkdir(opts.resultDir);\n",
    "    getBinnedFeaturesFromSession( opts );\n",
    "end"
   ]
  },
  {
   "cell_type": "code",
   "execution_count": null,
   "metadata": {},
   "outputs": [],
   "source": []
  }
 ],
 "metadata": {
  "kernelspec": {
   "display_name": "Matlab",
   "language": "matlab",
   "name": "matlab"
  },
  "language_info": {
   "codemirror_mode": "octave",
   "file_extension": ".m",
   "help_links": [
    {
     "text": "MetaKernel Magics",
     "url": "https://github.com/calysto/metakernel/blob/master/metakernel/magics/README.md"
    }
   ],
   "mimetype": "text/x-octave",
   "name": "matlab",
   "version": "0.11.0"
  }
 },
 "nbformat": 4,
 "nbformat_minor": 2
}
